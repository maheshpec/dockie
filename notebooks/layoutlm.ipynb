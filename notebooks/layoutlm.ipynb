{
  "nbformat": 4,
  "nbformat_minor": 0,
  "metadata": {
    "colab": {
      "provenance": [],
      "authorship_tag": "ABX9TyNHmNMXEnuhUC9le5E4JgHl",
      "include_colab_link": true
    },
    "kernelspec": {
      "name": "python3",
      "display_name": "Python 3"
    },
    "language_info": {
      "name": "python"
    },
    "widgets": {
      "application/vnd.jupyter.widget-state+json": {
        "dd25d250026644d6874e6354d820fdd6": {
          "model_module": "@jupyter-widgets/controls",
          "model_name": "HBoxModel",
          "model_module_version": "1.5.0",
          "state": {
            "_dom_classes": [],
            "_model_module": "@jupyter-widgets/controls",
            "_model_module_version": "1.5.0",
            "_model_name": "HBoxModel",
            "_view_count": null,
            "_view_module": "@jupyter-widgets/controls",
            "_view_module_version": "1.5.0",
            "_view_name": "HBoxView",
            "box_style": "",
            "children": [
              "IPY_MODEL_ce7b89310dd9412bbf65aee4ca5f937f",
              "IPY_MODEL_56bca7717cfa4c87ae4d1ae3e8272503",
              "IPY_MODEL_236375b5bda246fe9d0998eb994d509e"
            ],
            "layout": "IPY_MODEL_abcf8c37fb1d4d23bf288fcd8a458c2c"
          }
        },
        "ce7b89310dd9412bbf65aee4ca5f937f": {
          "model_module": "@jupyter-widgets/controls",
          "model_name": "HTMLModel",
          "model_module_version": "1.5.0",
          "state": {
            "_dom_classes": [],
            "_model_module": "@jupyter-widgets/controls",
            "_model_module_version": "1.5.0",
            "_model_name": "HTMLModel",
            "_view_count": null,
            "_view_module": "@jupyter-widgets/controls",
            "_view_module_version": "1.5.0",
            "_view_name": "HTMLView",
            "description": "",
            "description_tooltip": null,
            "layout": "IPY_MODEL_3758723eeaa642d2afb47b4b6095c8c0",
            "placeholder": "​",
            "style": "IPY_MODEL_c79a10128d6a4085aefe435ab2740c1f",
            "value": "Generating train split: "
          }
        },
        "56bca7717cfa4c87ae4d1ae3e8272503": {
          "model_module": "@jupyter-widgets/controls",
          "model_name": "FloatProgressModel",
          "model_module_version": "1.5.0",
          "state": {
            "_dom_classes": [],
            "_model_module": "@jupyter-widgets/controls",
            "_model_module_version": "1.5.0",
            "_model_name": "FloatProgressModel",
            "_view_count": null,
            "_view_module": "@jupyter-widgets/controls",
            "_view_module_version": "1.5.0",
            "_view_name": "ProgressView",
            "bar_style": "info",
            "description": "",
            "description_tooltip": null,
            "layout": "IPY_MODEL_fb59e16c7b414276b32e062d539af778",
            "max": 1,
            "min": 0,
            "orientation": "horizontal",
            "style": "IPY_MODEL_17225aa2e82542de8a71dba2b2eeb4e4",
            "value": 1
          }
        },
        "236375b5bda246fe9d0998eb994d509e": {
          "model_module": "@jupyter-widgets/controls",
          "model_name": "HTMLModel",
          "model_module_version": "1.5.0",
          "state": {
            "_dom_classes": [],
            "_model_module": "@jupyter-widgets/controls",
            "_model_module_version": "1.5.0",
            "_model_name": "HTMLModel",
            "_view_count": null,
            "_view_module": "@jupyter-widgets/controls",
            "_view_module_version": "1.5.0",
            "_view_name": "HTMLView",
            "description": "",
            "description_tooltip": null,
            "layout": "IPY_MODEL_1cc6972261234063a08907e7d6e86338",
            "placeholder": "​",
            "style": "IPY_MODEL_a1ce143dba4c4a3e8959656661d9652b",
            "value": " 149/0 [00:19&lt;00:00, 16.74 examples/s]"
          }
        },
        "abcf8c37fb1d4d23bf288fcd8a458c2c": {
          "model_module": "@jupyter-widgets/base",
          "model_name": "LayoutModel",
          "model_module_version": "1.2.0",
          "state": {
            "_model_module": "@jupyter-widgets/base",
            "_model_module_version": "1.2.0",
            "_model_name": "LayoutModel",
            "_view_count": null,
            "_view_module": "@jupyter-widgets/base",
            "_view_module_version": "1.2.0",
            "_view_name": "LayoutView",
            "align_content": null,
            "align_items": null,
            "align_self": null,
            "border": null,
            "bottom": null,
            "display": null,
            "flex": null,
            "flex_flow": null,
            "grid_area": null,
            "grid_auto_columns": null,
            "grid_auto_flow": null,
            "grid_auto_rows": null,
            "grid_column": null,
            "grid_gap": null,
            "grid_row": null,
            "grid_template_areas": null,
            "grid_template_columns": null,
            "grid_template_rows": null,
            "height": null,
            "justify_content": null,
            "justify_items": null,
            "left": null,
            "margin": null,
            "max_height": null,
            "max_width": null,
            "min_height": null,
            "min_width": null,
            "object_fit": null,
            "object_position": null,
            "order": null,
            "overflow": null,
            "overflow_x": null,
            "overflow_y": null,
            "padding": null,
            "right": null,
            "top": null,
            "visibility": null,
            "width": null
          }
        },
        "3758723eeaa642d2afb47b4b6095c8c0": {
          "model_module": "@jupyter-widgets/base",
          "model_name": "LayoutModel",
          "model_module_version": "1.2.0",
          "state": {
            "_model_module": "@jupyter-widgets/base",
            "_model_module_version": "1.2.0",
            "_model_name": "LayoutModel",
            "_view_count": null,
            "_view_module": "@jupyter-widgets/base",
            "_view_module_version": "1.2.0",
            "_view_name": "LayoutView",
            "align_content": null,
            "align_items": null,
            "align_self": null,
            "border": null,
            "bottom": null,
            "display": null,
            "flex": null,
            "flex_flow": null,
            "grid_area": null,
            "grid_auto_columns": null,
            "grid_auto_flow": null,
            "grid_auto_rows": null,
            "grid_column": null,
            "grid_gap": null,
            "grid_row": null,
            "grid_template_areas": null,
            "grid_template_columns": null,
            "grid_template_rows": null,
            "height": null,
            "justify_content": null,
            "justify_items": null,
            "left": null,
            "margin": null,
            "max_height": null,
            "max_width": null,
            "min_height": null,
            "min_width": null,
            "object_fit": null,
            "object_position": null,
            "order": null,
            "overflow": null,
            "overflow_x": null,
            "overflow_y": null,
            "padding": null,
            "right": null,
            "top": null,
            "visibility": null,
            "width": null
          }
        },
        "c79a10128d6a4085aefe435ab2740c1f": {
          "model_module": "@jupyter-widgets/controls",
          "model_name": "DescriptionStyleModel",
          "model_module_version": "1.5.0",
          "state": {
            "_model_module": "@jupyter-widgets/controls",
            "_model_module_version": "1.5.0",
            "_model_name": "DescriptionStyleModel",
            "_view_count": null,
            "_view_module": "@jupyter-widgets/base",
            "_view_module_version": "1.2.0",
            "_view_name": "StyleView",
            "description_width": ""
          }
        },
        "fb59e16c7b414276b32e062d539af778": {
          "model_module": "@jupyter-widgets/base",
          "model_name": "LayoutModel",
          "model_module_version": "1.2.0",
          "state": {
            "_model_module": "@jupyter-widgets/base",
            "_model_module_version": "1.2.0",
            "_model_name": "LayoutModel",
            "_view_count": null,
            "_view_module": "@jupyter-widgets/base",
            "_view_module_version": "1.2.0",
            "_view_name": "LayoutView",
            "align_content": null,
            "align_items": null,
            "align_self": null,
            "border": null,
            "bottom": null,
            "display": null,
            "flex": null,
            "flex_flow": null,
            "grid_area": null,
            "grid_auto_columns": null,
            "grid_auto_flow": null,
            "grid_auto_rows": null,
            "grid_column": null,
            "grid_gap": null,
            "grid_row": null,
            "grid_template_areas": null,
            "grid_template_columns": null,
            "grid_template_rows": null,
            "height": null,
            "justify_content": null,
            "justify_items": null,
            "left": null,
            "margin": null,
            "max_height": null,
            "max_width": null,
            "min_height": null,
            "min_width": null,
            "object_fit": null,
            "object_position": null,
            "order": null,
            "overflow": null,
            "overflow_x": null,
            "overflow_y": null,
            "padding": null,
            "right": null,
            "top": null,
            "visibility": null,
            "width": "20px"
          }
        },
        "17225aa2e82542de8a71dba2b2eeb4e4": {
          "model_module": "@jupyter-widgets/controls",
          "model_name": "ProgressStyleModel",
          "model_module_version": "1.5.0",
          "state": {
            "_model_module": "@jupyter-widgets/controls",
            "_model_module_version": "1.5.0",
            "_model_name": "ProgressStyleModel",
            "_view_count": null,
            "_view_module": "@jupyter-widgets/base",
            "_view_module_version": "1.2.0",
            "_view_name": "StyleView",
            "bar_color": null,
            "description_width": ""
          }
        },
        "1cc6972261234063a08907e7d6e86338": {
          "model_module": "@jupyter-widgets/base",
          "model_name": "LayoutModel",
          "model_module_version": "1.2.0",
          "state": {
            "_model_module": "@jupyter-widgets/base",
            "_model_module_version": "1.2.0",
            "_model_name": "LayoutModel",
            "_view_count": null,
            "_view_module": "@jupyter-widgets/base",
            "_view_module_version": "1.2.0",
            "_view_name": "LayoutView",
            "align_content": null,
            "align_items": null,
            "align_self": null,
            "border": null,
            "bottom": null,
            "display": null,
            "flex": null,
            "flex_flow": null,
            "grid_area": null,
            "grid_auto_columns": null,
            "grid_auto_flow": null,
            "grid_auto_rows": null,
            "grid_column": null,
            "grid_gap": null,
            "grid_row": null,
            "grid_template_areas": null,
            "grid_template_columns": null,
            "grid_template_rows": null,
            "height": null,
            "justify_content": null,
            "justify_items": null,
            "left": null,
            "margin": null,
            "max_height": null,
            "max_width": null,
            "min_height": null,
            "min_width": null,
            "object_fit": null,
            "object_position": null,
            "order": null,
            "overflow": null,
            "overflow_x": null,
            "overflow_y": null,
            "padding": null,
            "right": null,
            "top": null,
            "visibility": null,
            "width": null
          }
        },
        "a1ce143dba4c4a3e8959656661d9652b": {
          "model_module": "@jupyter-widgets/controls",
          "model_name": "DescriptionStyleModel",
          "model_module_version": "1.5.0",
          "state": {
            "_model_module": "@jupyter-widgets/controls",
            "_model_module_version": "1.5.0",
            "_model_name": "DescriptionStyleModel",
            "_view_count": null,
            "_view_module": "@jupyter-widgets/base",
            "_view_module_version": "1.2.0",
            "_view_name": "StyleView",
            "description_width": ""
          }
        },
        "5325f357a54b4028a3ddcb5900093106": {
          "model_module": "@jupyter-widgets/controls",
          "model_name": "HBoxModel",
          "model_module_version": "1.5.0",
          "state": {
            "_dom_classes": [],
            "_model_module": "@jupyter-widgets/controls",
            "_model_module_version": "1.5.0",
            "_model_name": "HBoxModel",
            "_view_count": null,
            "_view_module": "@jupyter-widgets/controls",
            "_view_module_version": "1.5.0",
            "_view_name": "HBoxView",
            "box_style": "",
            "children": [
              "IPY_MODEL_46d744e0ba49452ebf0441567e63f4f0",
              "IPY_MODEL_27e03c43c8504185a2a64fa41b402dcc",
              "IPY_MODEL_66829e8c80704feab727d65d0e8db2ca"
            ],
            "layout": "IPY_MODEL_cb565758828e49869021743e88e1f861"
          }
        },
        "46d744e0ba49452ebf0441567e63f4f0": {
          "model_module": "@jupyter-widgets/controls",
          "model_name": "HTMLModel",
          "model_module_version": "1.5.0",
          "state": {
            "_dom_classes": [],
            "_model_module": "@jupyter-widgets/controls",
            "_model_module_version": "1.5.0",
            "_model_name": "HTMLModel",
            "_view_count": null,
            "_view_module": "@jupyter-widgets/controls",
            "_view_module_version": "1.5.0",
            "_view_name": "HTMLView",
            "description": "",
            "description_tooltip": null,
            "layout": "IPY_MODEL_f8a67bb5f6c84602b408d45a495b0a00",
            "placeholder": "​",
            "style": "IPY_MODEL_9dc4d2d5e12e4061b16055d93fabf13c",
            "value": "Generating test split: "
          }
        },
        "27e03c43c8504185a2a64fa41b402dcc": {
          "model_module": "@jupyter-widgets/controls",
          "model_name": "FloatProgressModel",
          "model_module_version": "1.5.0",
          "state": {
            "_dom_classes": [],
            "_model_module": "@jupyter-widgets/controls",
            "_model_module_version": "1.5.0",
            "_model_name": "FloatProgressModel",
            "_view_count": null,
            "_view_module": "@jupyter-widgets/controls",
            "_view_module_version": "1.5.0",
            "_view_name": "ProgressView",
            "bar_style": "info",
            "description": "",
            "description_tooltip": null,
            "layout": "IPY_MODEL_a923ecb885294ee7a550133175a75bbb",
            "max": 1,
            "min": 0,
            "orientation": "horizontal",
            "style": "IPY_MODEL_7e4b3edf846646d3ae3d4136beec1c9d",
            "value": 1
          }
        },
        "66829e8c80704feab727d65d0e8db2ca": {
          "model_module": "@jupyter-widgets/controls",
          "model_name": "HTMLModel",
          "model_module_version": "1.5.0",
          "state": {
            "_dom_classes": [],
            "_model_module": "@jupyter-widgets/controls",
            "_model_module_version": "1.5.0",
            "_model_name": "HTMLModel",
            "_view_count": null,
            "_view_module": "@jupyter-widgets/controls",
            "_view_module_version": "1.5.0",
            "_view_name": "HTMLView",
            "description": "",
            "description_tooltip": null,
            "layout": "IPY_MODEL_e1973b5317654e6ea8e1594efbbb147e",
            "placeholder": "​",
            "style": "IPY_MODEL_f4604620551b4548bf6c890b9fe6bf76",
            "value": " 50/0 [00:20&lt;00:00, 14.21 examples/s]"
          }
        },
        "cb565758828e49869021743e88e1f861": {
          "model_module": "@jupyter-widgets/base",
          "model_name": "LayoutModel",
          "model_module_version": "1.2.0",
          "state": {
            "_model_module": "@jupyter-widgets/base",
            "_model_module_version": "1.2.0",
            "_model_name": "LayoutModel",
            "_view_count": null,
            "_view_module": "@jupyter-widgets/base",
            "_view_module_version": "1.2.0",
            "_view_name": "LayoutView",
            "align_content": null,
            "align_items": null,
            "align_self": null,
            "border": null,
            "bottom": null,
            "display": null,
            "flex": null,
            "flex_flow": null,
            "grid_area": null,
            "grid_auto_columns": null,
            "grid_auto_flow": null,
            "grid_auto_rows": null,
            "grid_column": null,
            "grid_gap": null,
            "grid_row": null,
            "grid_template_areas": null,
            "grid_template_columns": null,
            "grid_template_rows": null,
            "height": null,
            "justify_content": null,
            "justify_items": null,
            "left": null,
            "margin": null,
            "max_height": null,
            "max_width": null,
            "min_height": null,
            "min_width": null,
            "object_fit": null,
            "object_position": null,
            "order": null,
            "overflow": null,
            "overflow_x": null,
            "overflow_y": null,
            "padding": null,
            "right": null,
            "top": null,
            "visibility": null,
            "width": null
          }
        },
        "f8a67bb5f6c84602b408d45a495b0a00": {
          "model_module": "@jupyter-widgets/base",
          "model_name": "LayoutModel",
          "model_module_version": "1.2.0",
          "state": {
            "_model_module": "@jupyter-widgets/base",
            "_model_module_version": "1.2.0",
            "_model_name": "LayoutModel",
            "_view_count": null,
            "_view_module": "@jupyter-widgets/base",
            "_view_module_version": "1.2.0",
            "_view_name": "LayoutView",
            "align_content": null,
            "align_items": null,
            "align_self": null,
            "border": null,
            "bottom": null,
            "display": null,
            "flex": null,
            "flex_flow": null,
            "grid_area": null,
            "grid_auto_columns": null,
            "grid_auto_flow": null,
            "grid_auto_rows": null,
            "grid_column": null,
            "grid_gap": null,
            "grid_row": null,
            "grid_template_areas": null,
            "grid_template_columns": null,
            "grid_template_rows": null,
            "height": null,
            "justify_content": null,
            "justify_items": null,
            "left": null,
            "margin": null,
            "max_height": null,
            "max_width": null,
            "min_height": null,
            "min_width": null,
            "object_fit": null,
            "object_position": null,
            "order": null,
            "overflow": null,
            "overflow_x": null,
            "overflow_y": null,
            "padding": null,
            "right": null,
            "top": null,
            "visibility": null,
            "width": null
          }
        },
        "9dc4d2d5e12e4061b16055d93fabf13c": {
          "model_module": "@jupyter-widgets/controls",
          "model_name": "DescriptionStyleModel",
          "model_module_version": "1.5.0",
          "state": {
            "_model_module": "@jupyter-widgets/controls",
            "_model_module_version": "1.5.0",
            "_model_name": "DescriptionStyleModel",
            "_view_count": null,
            "_view_module": "@jupyter-widgets/base",
            "_view_module_version": "1.2.0",
            "_view_name": "StyleView",
            "description_width": ""
          }
        },
        "a923ecb885294ee7a550133175a75bbb": {
          "model_module": "@jupyter-widgets/base",
          "model_name": "LayoutModel",
          "model_module_version": "1.2.0",
          "state": {
            "_model_module": "@jupyter-widgets/base",
            "_model_module_version": "1.2.0",
            "_model_name": "LayoutModel",
            "_view_count": null,
            "_view_module": "@jupyter-widgets/base",
            "_view_module_version": "1.2.0",
            "_view_name": "LayoutView",
            "align_content": null,
            "align_items": null,
            "align_self": null,
            "border": null,
            "bottom": null,
            "display": null,
            "flex": null,
            "flex_flow": null,
            "grid_area": null,
            "grid_auto_columns": null,
            "grid_auto_flow": null,
            "grid_auto_rows": null,
            "grid_column": null,
            "grid_gap": null,
            "grid_row": null,
            "grid_template_areas": null,
            "grid_template_columns": null,
            "grid_template_rows": null,
            "height": null,
            "justify_content": null,
            "justify_items": null,
            "left": null,
            "margin": null,
            "max_height": null,
            "max_width": null,
            "min_height": null,
            "min_width": null,
            "object_fit": null,
            "object_position": null,
            "order": null,
            "overflow": null,
            "overflow_x": null,
            "overflow_y": null,
            "padding": null,
            "right": null,
            "top": null,
            "visibility": null,
            "width": "20px"
          }
        },
        "7e4b3edf846646d3ae3d4136beec1c9d": {
          "model_module": "@jupyter-widgets/controls",
          "model_name": "ProgressStyleModel",
          "model_module_version": "1.5.0",
          "state": {
            "_model_module": "@jupyter-widgets/controls",
            "_model_module_version": "1.5.0",
            "_model_name": "ProgressStyleModel",
            "_view_count": null,
            "_view_module": "@jupyter-widgets/base",
            "_view_module_version": "1.2.0",
            "_view_name": "StyleView",
            "bar_color": null,
            "description_width": ""
          }
        },
        "e1973b5317654e6ea8e1594efbbb147e": {
          "model_module": "@jupyter-widgets/base",
          "model_name": "LayoutModel",
          "model_module_version": "1.2.0",
          "state": {
            "_model_module": "@jupyter-widgets/base",
            "_model_module_version": "1.2.0",
            "_model_name": "LayoutModel",
            "_view_count": null,
            "_view_module": "@jupyter-widgets/base",
            "_view_module_version": "1.2.0",
            "_view_name": "LayoutView",
            "align_content": null,
            "align_items": null,
            "align_self": null,
            "border": null,
            "bottom": null,
            "display": null,
            "flex": null,
            "flex_flow": null,
            "grid_area": null,
            "grid_auto_columns": null,
            "grid_auto_flow": null,
            "grid_auto_rows": null,
            "grid_column": null,
            "grid_gap": null,
            "grid_row": null,
            "grid_template_areas": null,
            "grid_template_columns": null,
            "grid_template_rows": null,
            "height": null,
            "justify_content": null,
            "justify_items": null,
            "left": null,
            "margin": null,
            "max_height": null,
            "max_width": null,
            "min_height": null,
            "min_width": null,
            "object_fit": null,
            "object_position": null,
            "order": null,
            "overflow": null,
            "overflow_x": null,
            "overflow_y": null,
            "padding": null,
            "right": null,
            "top": null,
            "visibility": null,
            "width": null
          }
        },
        "f4604620551b4548bf6c890b9fe6bf76": {
          "model_module": "@jupyter-widgets/controls",
          "model_name": "DescriptionStyleModel",
          "model_module_version": "1.5.0",
          "state": {
            "_model_module": "@jupyter-widgets/controls",
            "_model_module_version": "1.5.0",
            "_model_name": "DescriptionStyleModel",
            "_view_count": null,
            "_view_module": "@jupyter-widgets/base",
            "_view_module_version": "1.2.0",
            "_view_name": "StyleView",
            "description_width": ""
          }
        },
        "619fafb2a22f47b4bcb41c61bdc7f719": {
          "model_module": "@jupyter-widgets/controls",
          "model_name": "HBoxModel",
          "model_module_version": "1.5.0",
          "state": {
            "_dom_classes": [],
            "_model_module": "@jupyter-widgets/controls",
            "_model_module_version": "1.5.0",
            "_model_name": "HBoxModel",
            "_view_count": null,
            "_view_module": "@jupyter-widgets/controls",
            "_view_module_version": "1.5.0",
            "_view_name": "HBoxView",
            "box_style": "",
            "children": [
              "IPY_MODEL_f324fbbf6d284d74a07b690b40a45214",
              "IPY_MODEL_170343e907814d7ea50a8c0bed7068d6",
              "IPY_MODEL_d196ce8e3fd84ead9757929fd2d0c4dd"
            ],
            "layout": "IPY_MODEL_0ca36718ffc04239993ad6fa2f20ae44"
          }
        },
        "f324fbbf6d284d74a07b690b40a45214": {
          "model_module": "@jupyter-widgets/controls",
          "model_name": "HTMLModel",
          "model_module_version": "1.5.0",
          "state": {
            "_dom_classes": [],
            "_model_module": "@jupyter-widgets/controls",
            "_model_module_version": "1.5.0",
            "_model_name": "HTMLModel",
            "_view_count": null,
            "_view_module": "@jupyter-widgets/controls",
            "_view_module_version": "1.5.0",
            "_view_name": "HTMLView",
            "description": "",
            "description_tooltip": null,
            "layout": "IPY_MODEL_ef0d393a86c34248aa0aab66cb8fba6e",
            "placeholder": "​",
            "style": "IPY_MODEL_74b72f4f0b674d27b9e348ac0fc45e99",
            "value": "100%"
          }
        },
        "170343e907814d7ea50a8c0bed7068d6": {
          "model_module": "@jupyter-widgets/controls",
          "model_name": "FloatProgressModel",
          "model_module_version": "1.5.0",
          "state": {
            "_dom_classes": [],
            "_model_module": "@jupyter-widgets/controls",
            "_model_module_version": "1.5.0",
            "_model_name": "FloatProgressModel",
            "_view_count": null,
            "_view_module": "@jupyter-widgets/controls",
            "_view_module_version": "1.5.0",
            "_view_name": "ProgressView",
            "bar_style": "success",
            "description": "",
            "description_tooltip": null,
            "layout": "IPY_MODEL_abadc2654ebd44bcad6c70fa2332380a",
            "max": 2,
            "min": 0,
            "orientation": "horizontal",
            "style": "IPY_MODEL_a66e541ee90648d39ecc4f781893c590",
            "value": 2
          }
        },
        "d196ce8e3fd84ead9757929fd2d0c4dd": {
          "model_module": "@jupyter-widgets/controls",
          "model_name": "HTMLModel",
          "model_module_version": "1.5.0",
          "state": {
            "_dom_classes": [],
            "_model_module": "@jupyter-widgets/controls",
            "_model_module_version": "1.5.0",
            "_model_name": "HTMLModel",
            "_view_count": null,
            "_view_module": "@jupyter-widgets/controls",
            "_view_module_version": "1.5.0",
            "_view_name": "HTMLView",
            "description": "",
            "description_tooltip": null,
            "layout": "IPY_MODEL_b6f48aca2fae40698b6d535952d54444",
            "placeholder": "​",
            "style": "IPY_MODEL_e9ac6bcd99ac49aa9e1e46fbe3eaeb92",
            "value": " 2/2 [00:00&lt;00:00, 76.92it/s]"
          }
        },
        "0ca36718ffc04239993ad6fa2f20ae44": {
          "model_module": "@jupyter-widgets/base",
          "model_name": "LayoutModel",
          "model_module_version": "1.2.0",
          "state": {
            "_model_module": "@jupyter-widgets/base",
            "_model_module_version": "1.2.0",
            "_model_name": "LayoutModel",
            "_view_count": null,
            "_view_module": "@jupyter-widgets/base",
            "_view_module_version": "1.2.0",
            "_view_name": "LayoutView",
            "align_content": null,
            "align_items": null,
            "align_self": null,
            "border": null,
            "bottom": null,
            "display": null,
            "flex": null,
            "flex_flow": null,
            "grid_area": null,
            "grid_auto_columns": null,
            "grid_auto_flow": null,
            "grid_auto_rows": null,
            "grid_column": null,
            "grid_gap": null,
            "grid_row": null,
            "grid_template_areas": null,
            "grid_template_columns": null,
            "grid_template_rows": null,
            "height": null,
            "justify_content": null,
            "justify_items": null,
            "left": null,
            "margin": null,
            "max_height": null,
            "max_width": null,
            "min_height": null,
            "min_width": null,
            "object_fit": null,
            "object_position": null,
            "order": null,
            "overflow": null,
            "overflow_x": null,
            "overflow_y": null,
            "padding": null,
            "right": null,
            "top": null,
            "visibility": null,
            "width": null
          }
        },
        "ef0d393a86c34248aa0aab66cb8fba6e": {
          "model_module": "@jupyter-widgets/base",
          "model_name": "LayoutModel",
          "model_module_version": "1.2.0",
          "state": {
            "_model_module": "@jupyter-widgets/base",
            "_model_module_version": "1.2.0",
            "_model_name": "LayoutModel",
            "_view_count": null,
            "_view_module": "@jupyter-widgets/base",
            "_view_module_version": "1.2.0",
            "_view_name": "LayoutView",
            "align_content": null,
            "align_items": null,
            "align_self": null,
            "border": null,
            "bottom": null,
            "display": null,
            "flex": null,
            "flex_flow": null,
            "grid_area": null,
            "grid_auto_columns": null,
            "grid_auto_flow": null,
            "grid_auto_rows": null,
            "grid_column": null,
            "grid_gap": null,
            "grid_row": null,
            "grid_template_areas": null,
            "grid_template_columns": null,
            "grid_template_rows": null,
            "height": null,
            "justify_content": null,
            "justify_items": null,
            "left": null,
            "margin": null,
            "max_height": null,
            "max_width": null,
            "min_height": null,
            "min_width": null,
            "object_fit": null,
            "object_position": null,
            "order": null,
            "overflow": null,
            "overflow_x": null,
            "overflow_y": null,
            "padding": null,
            "right": null,
            "top": null,
            "visibility": null,
            "width": null
          }
        },
        "74b72f4f0b674d27b9e348ac0fc45e99": {
          "model_module": "@jupyter-widgets/controls",
          "model_name": "DescriptionStyleModel",
          "model_module_version": "1.5.0",
          "state": {
            "_model_module": "@jupyter-widgets/controls",
            "_model_module_version": "1.5.0",
            "_model_name": "DescriptionStyleModel",
            "_view_count": null,
            "_view_module": "@jupyter-widgets/base",
            "_view_module_version": "1.2.0",
            "_view_name": "StyleView",
            "description_width": ""
          }
        },
        "abadc2654ebd44bcad6c70fa2332380a": {
          "model_module": "@jupyter-widgets/base",
          "model_name": "LayoutModel",
          "model_module_version": "1.2.0",
          "state": {
            "_model_module": "@jupyter-widgets/base",
            "_model_module_version": "1.2.0",
            "_model_name": "LayoutModel",
            "_view_count": null,
            "_view_module": "@jupyter-widgets/base",
            "_view_module_version": "1.2.0",
            "_view_name": "LayoutView",
            "align_content": null,
            "align_items": null,
            "align_self": null,
            "border": null,
            "bottom": null,
            "display": null,
            "flex": null,
            "flex_flow": null,
            "grid_area": null,
            "grid_auto_columns": null,
            "grid_auto_flow": null,
            "grid_auto_rows": null,
            "grid_column": null,
            "grid_gap": null,
            "grid_row": null,
            "grid_template_areas": null,
            "grid_template_columns": null,
            "grid_template_rows": null,
            "height": null,
            "justify_content": null,
            "justify_items": null,
            "left": null,
            "margin": null,
            "max_height": null,
            "max_width": null,
            "min_height": null,
            "min_width": null,
            "object_fit": null,
            "object_position": null,
            "order": null,
            "overflow": null,
            "overflow_x": null,
            "overflow_y": null,
            "padding": null,
            "right": null,
            "top": null,
            "visibility": null,
            "width": null
          }
        },
        "a66e541ee90648d39ecc4f781893c590": {
          "model_module": "@jupyter-widgets/controls",
          "model_name": "ProgressStyleModel",
          "model_module_version": "1.5.0",
          "state": {
            "_model_module": "@jupyter-widgets/controls",
            "_model_module_version": "1.5.0",
            "_model_name": "ProgressStyleModel",
            "_view_count": null,
            "_view_module": "@jupyter-widgets/base",
            "_view_module_version": "1.2.0",
            "_view_name": "StyleView",
            "bar_color": null,
            "description_width": ""
          }
        },
        "b6f48aca2fae40698b6d535952d54444": {
          "model_module": "@jupyter-widgets/base",
          "model_name": "LayoutModel",
          "model_module_version": "1.2.0",
          "state": {
            "_model_module": "@jupyter-widgets/base",
            "_model_module_version": "1.2.0",
            "_model_name": "LayoutModel",
            "_view_count": null,
            "_view_module": "@jupyter-widgets/base",
            "_view_module_version": "1.2.0",
            "_view_name": "LayoutView",
            "align_content": null,
            "align_items": null,
            "align_self": null,
            "border": null,
            "bottom": null,
            "display": null,
            "flex": null,
            "flex_flow": null,
            "grid_area": null,
            "grid_auto_columns": null,
            "grid_auto_flow": null,
            "grid_auto_rows": null,
            "grid_column": null,
            "grid_gap": null,
            "grid_row": null,
            "grid_template_areas": null,
            "grid_template_columns": null,
            "grid_template_rows": null,
            "height": null,
            "justify_content": null,
            "justify_items": null,
            "left": null,
            "margin": null,
            "max_height": null,
            "max_width": null,
            "min_height": null,
            "min_width": null,
            "object_fit": null,
            "object_position": null,
            "order": null,
            "overflow": null,
            "overflow_x": null,
            "overflow_y": null,
            "padding": null,
            "right": null,
            "top": null,
            "visibility": null,
            "width": null
          }
        },
        "e9ac6bcd99ac49aa9e1e46fbe3eaeb92": {
          "model_module": "@jupyter-widgets/controls",
          "model_name": "DescriptionStyleModel",
          "model_module_version": "1.5.0",
          "state": {
            "_model_module": "@jupyter-widgets/controls",
            "_model_module_version": "1.5.0",
            "_model_name": "DescriptionStyleModel",
            "_view_count": null,
            "_view_module": "@jupyter-widgets/base",
            "_view_module_version": "1.2.0",
            "_view_name": "StyleView",
            "description_width": ""
          }
        }
      }
    }
  },
  "cells": [
    {
      "cell_type": "markdown",
      "metadata": {
        "id": "view-in-github",
        "colab_type": "text"
      },
      "source": [
        "<a href=\"https://colab.research.google.com/github/maheshpec/dockie/blob/initial/notebooks/layoutlm.ipynb\" target=\"_parent\"><img src=\"https://colab.research.google.com/assets/colab-badge.svg\" alt=\"Open In Colab\"/></a>"
      ]
    },
    {
      "cell_type": "markdown",
      "source": [
        "## Set up"
      ],
      "metadata": {
        "id": "0fQNECXVX1SX"
      }
    },
    {
      "cell_type": "markdown",
      "source": [
        "We need hugging face transformer to load the example dataset for [FUNSD](https://huggingface.co/nielsr/layoutlmv3-finetuned-funsd)."
      ],
      "metadata": {
        "id": "R7_EJh56iOm7"
      }
    },
    {
      "cell_type": "code",
      "execution_count": 1,
      "metadata": {
        "id": "5RC_96r-XR0c"
      },
      "outputs": [],
      "source": [
        "!pip install -q git+https://github.com/huggingface/transformers.git > /dev/null || echo 'error'"
      ]
    },
    {
      "cell_type": "markdown",
      "source": [
        "We need \n",
        "1. `datasets` for an example image. \n",
        "1. `pytesseract` for interacting with tessearct in python\n",
        "1. `numpy` is needed for transforming the data returned from ocr processing "
      ],
      "metadata": {
        "id": "G6FeA7xGic8U"
      }
    },
    {
      "cell_type": "code",
      "source": [
        "!pip install -U datasets pytesseract numpy  Pillow==9.0.0 > /dev/null || echo 'error'"
      ],
      "metadata": {
        "id": "52v6N3C9X6If"
      },
      "execution_count": 8,
      "outputs": []
    },
    {
      "cell_type": "markdown",
      "source": [
        "`pytesseract` doesn't actually install tessearct. We need to install `tesseract-ocr` via `apt` (since we are on an ubuntu notebook)."
      ],
      "metadata": {
        "id": "-CH7xSNFiyXR"
      }
    },
    {
      "cell_type": "code",
      "source": [
        "!apt install tesseract-ocr > /dev/null || echo 'error install tesseract'"
      ],
      "metadata": {
        "colab": {
          "base_uri": "https://localhost:8080/"
        },
        "id": "Wi5FHeT0ggis",
        "outputId": "b5a738b1-bc8f-4f1e-e459-22c195810a34"
      },
      "execution_count": 3,
      "outputs": [
        {
          "output_type": "stream",
          "name": "stdout",
          "text": [
            "\n",
            "WARNING: apt does not have a stable CLI interface. Use with caution in scripts.\n",
            "\n"
          ]
        }
      ]
    },
    {
      "cell_type": "markdown",
      "source": [
        "**Make sure to restart the runtime**"
      ],
      "metadata": {
        "id": "vK1RCJtRjcg_"
      }
    },
    {
      "cell_type": "markdown",
      "source": [
        "## Download and run the language model"
      ],
      "metadata": {
        "id": "DjsKveQY0Bph"
      }
    },
    {
      "cell_type": "markdown",
      "source": [
        "The model we can use is `nielsr/layoutlmv3-finetuned-funsd` - It has been trained on financial data. The processor is `microsoft/layoutlmv3-base` - we need it to convert the image and text data (after OCR) into embeddings so that we can feed it to the model"
      ],
      "metadata": {
        "id": "qfHfkoOvi-0y"
      }
    },
    {
      "cell_type": "code",
      "source": [
        "from transformers import AutoModelForTokenClassification, AutoProcessor\n",
        "from transformers import LayoutLMv3FeatureExtractor, LayoutLMv3Tokenizer, LayoutLMv3Processor\n",
        "import torch\n",
        "\n",
        "# we'll use the Auto API here - it will load LayoutLMv3Processor behind the scenes,\n",
        "# based on the checkpoint we provide from the hub\n",
        "processor = AutoProcessor.from_pretrained(\"microsoft/layoutlmv3-base\", apply_ocr=True)\n",
        "model = AutoModelForTokenClassification.from_pretrained(\"nielsr/layoutlmv3-finetuned-funsd\")\n",
        "model.config.id2label"
      ],
      "metadata": {
        "colab": {
          "base_uri": "https://localhost:8080/"
        },
        "id": "mtQ_S-ZlYERW",
        "outputId": "22ecf062-499f-4cfd-9ee9-ae08d908f54a"
      },
      "execution_count": 1,
      "outputs": [
        {
          "output_type": "stream",
          "name": "stderr",
          "text": [
            "/usr/local/lib/python3.8/dist-packages/scipy/__init__.py:146: UserWarning: A NumPy version >=1.16.5 and <1.23.0 is required for this version of SciPy (detected version 1.24.1\n",
            "  warnings.warn(f\"A NumPy version >={np_minversion} and <{np_maxversion}\"\n"
          ]
        },
        {
          "output_type": "execute_result",
          "data": {
            "text/plain": [
              "{0: 'O',\n",
              " 1: 'B-HEADER',\n",
              " 2: 'I-HEADER',\n",
              " 3: 'B-QUESTION',\n",
              " 4: 'I-QUESTION',\n",
              " 5: 'B-ANSWER',\n",
              " 6: 'I-ANSWER'}"
            ]
          },
          "metadata": {},
          "execution_count": 1
        }
      ]
    },
    {
      "cell_type": "markdown",
      "source": [
        "Load an example from fundsd"
      ],
      "metadata": {
        "id": "mwA5NxV-d9O-"
      }
    },
    {
      "cell_type": "code",
      "source": [
        "from datasets import load_dataset \n",
        "\n",
        "# this dataset uses the new Image feature :)\n",
        "dataset = load_dataset(\"nielsr/funsd-layoutlmv3\")"
      ],
      "metadata": {
        "colab": {
          "base_uri": "https://localhost:8080/",
          "height": 169,
          "referenced_widgets": [
            "dd25d250026644d6874e6354d820fdd6",
            "ce7b89310dd9412bbf65aee4ca5f937f",
            "56bca7717cfa4c87ae4d1ae3e8272503",
            "236375b5bda246fe9d0998eb994d509e",
            "abcf8c37fb1d4d23bf288fcd8a458c2c",
            "3758723eeaa642d2afb47b4b6095c8c0",
            "c79a10128d6a4085aefe435ab2740c1f",
            "fb59e16c7b414276b32e062d539af778",
            "17225aa2e82542de8a71dba2b2eeb4e4",
            "1cc6972261234063a08907e7d6e86338",
            "a1ce143dba4c4a3e8959656661d9652b",
            "5325f357a54b4028a3ddcb5900093106",
            "46d744e0ba49452ebf0441567e63f4f0",
            "27e03c43c8504185a2a64fa41b402dcc",
            "66829e8c80704feab727d65d0e8db2ca",
            "cb565758828e49869021743e88e1f861",
            "f8a67bb5f6c84602b408d45a495b0a00",
            "9dc4d2d5e12e4061b16055d93fabf13c",
            "a923ecb885294ee7a550133175a75bbb",
            "7e4b3edf846646d3ae3d4136beec1c9d",
            "e1973b5317654e6ea8e1594efbbb147e",
            "f4604620551b4548bf6c890b9fe6bf76",
            "619fafb2a22f47b4bcb41c61bdc7f719",
            "f324fbbf6d284d74a07b690b40a45214",
            "170343e907814d7ea50a8c0bed7068d6",
            "d196ce8e3fd84ead9757929fd2d0c4dd",
            "0ca36718ffc04239993ad6fa2f20ae44",
            "ef0d393a86c34248aa0aab66cb8fba6e",
            "74b72f4f0b674d27b9e348ac0fc45e99",
            "abadc2654ebd44bcad6c70fa2332380a",
            "a66e541ee90648d39ecc4f781893c590",
            "b6f48aca2fae40698b6d535952d54444",
            "e9ac6bcd99ac49aa9e1e46fbe3eaeb92"
          ]
        },
        "id": "-VPzF5bdeEwS",
        "outputId": "553742ca-8dee-4de3-837f-d018f861da4e"
      },
      "execution_count": 2,
      "outputs": [
        {
          "output_type": "stream",
          "name": "stdout",
          "text": [
            "Downloading and preparing dataset funsd-layoutlmv3/funsd to /root/.cache/huggingface/datasets/nielsr___funsd-layoutlmv3/funsd/1.0.0/0e3f4efdfd59aa1c3b4952c517894f7b1fc4d75c12ef01bcc8626a69e41c1bb9...\n"
          ]
        },
        {
          "output_type": "display_data",
          "data": {
            "text/plain": [
              "Generating train split: 0 examples [00:00, ? examples/s]"
            ],
            "application/vnd.jupyter.widget-view+json": {
              "version_major": 2,
              "version_minor": 0,
              "model_id": "dd25d250026644d6874e6354d820fdd6"
            }
          },
          "metadata": {}
        },
        {
          "output_type": "display_data",
          "data": {
            "text/plain": [
              "Generating test split: 0 examples [00:00, ? examples/s]"
            ],
            "application/vnd.jupyter.widget-view+json": {
              "version_major": 2,
              "version_minor": 0,
              "model_id": "5325f357a54b4028a3ddcb5900093106"
            }
          },
          "metadata": {}
        },
        {
          "output_type": "stream",
          "name": "stdout",
          "text": [
            "Dataset funsd-layoutlmv3 downloaded and prepared to /root/.cache/huggingface/datasets/nielsr___funsd-layoutlmv3/funsd/1.0.0/0e3f4efdfd59aa1c3b4952c517894f7b1fc4d75c12ef01bcc8626a69e41c1bb9. Subsequent calls will reuse this data.\n"
          ]
        },
        {
          "output_type": "display_data",
          "data": {
            "text/plain": [
              "  0%|          | 0/2 [00:00<?, ?it/s]"
            ],
            "application/vnd.jupyter.widget-view+json": {
              "version_major": 2,
              "version_minor": 0,
              "model_id": "619fafb2a22f47b4bcb41c61bdc7f719"
            }
          },
          "metadata": {}
        }
      ]
    },
    {
      "cell_type": "markdown",
      "source": [
        "[LayoutLMV3 needs images to be in RGB](https://github.com/NielsRogge/Transformers-Tutorials/tree/master/LayoutLMv3).\n",
        "\n",
        "The processor usage in v3 is [similar to v2](https://huggingface.co/docs/transformers/model_doc/layoutlmv2#usage-layoutlmv2processor). We use it with OCR. If we didn't, we have to provide the segment bounding boxes and the corresponding words. LayoutLmV3 also uses Byte pair encoding instead of word piece encoding. \n",
        "\n",
        "These items were helpful in figuring this out:\n",
        "1. [Usage for LayoutLMv2Processor](https://huggingface.co/docs/transformers/model_doc/layoutlmv2#usage-layoutlmv2processor)\n",
        "1. [Dataset creation for FUNSD for use in LMV3](https://huggingface.co/datasets/nielsr/funsd-layoutlmv3/blob/main/funsd-layoutlmv3.py#L140)\n",
        "1. [Reference for LMV3](https://github.com/NielsRogge/Transformers-Tutorials/tree/master/LayoutLMv3)\n",
        "1. [How the layout lm v2 model was fine tuned on FUNSD](https://github.com/NielsRogge/Transformers-Tutorials/blob/master/LayoutLMv2/FUNSD/Fine_tuning_LayoutLMv2ForTokenClassification_on_FUNSD.ipynb)\n",
        "1. [How the layout lm v3 model was fine tuned on FUNSD](https://colab.research.google.com/github/NielsRogge/Transformers-Tutorials/blob/master/LayoutLMv3/Fine_tune_LayoutLMv3_on_FUNSD_(HuggingFace_Trainer).ipynb#scrollTo=V6GvYURlY5ZV)"
      ],
      "metadata": {
        "id": "f4Vr2fUkwRfM"
      }
    },
    {
      "cell_type": "markdown",
      "source": [
        "## Run inference"
      ],
      "metadata": {
        "id": "aSHdYbzh0WvK"
      }
    },
    {
      "cell_type": "markdown",
      "source": [
        "We do the following\n",
        "1. load the 20th image in the FUNSD dataset\n",
        "1. Convert it into RGB\n",
        "1. Run it through the processor with OCR on - this will give us the encodings\n",
        "\n",
        "We can also run it through our own OCR but we've to provide segment position embeddings and bounding boxes"
      ],
      "metadata": {
        "id": "KGaDDt5t0Yny"
      }
    },
    {
      "cell_type": "code",
      "source": [
        "image = (dataset[\"train\"][20][\"image\"]).convert(\"RGB\")\n",
        "\n",
        "features = processor.feature_extractor(images=image, return_tensors=\"pt\")\n",
        "#print(features.keys())\n",
        "words = features['words'][0]\n",
        "encoding = processor.tokenizer(text=features['words'], boxes=features['boxes'], return_tensors=\"pt\", add_special_tokens=True, return_overflowing_tokens=False, verbose=True)\n",
        "#encoding = processor(image, return_tensors=\"pt\")\n",
        "print(encoding.keys())"
      ],
      "metadata": {
        "colab": {
          "base_uri": "https://localhost:8080/"
        },
        "id": "vcbu3mM9eLK7",
        "outputId": "e8285a2e-bdf5-42a0-ff63-7cd5887921e1"
      },
      "execution_count": 3,
      "outputs": [
        {
          "output_type": "stream",
          "name": "stderr",
          "text": [
            "/usr/local/lib/python3.8/dist-packages/transformers/models/layoutlmv3/processing_layoutlmv3.py:193: FutureWarning: `feature_extractor` is deprecated and will be removed in v5. Use `image_processor` instead.\n",
            "  warnings.warn(\n"
          ]
        },
        {
          "output_type": "stream",
          "name": "stdout",
          "text": [
            "dict_keys(['input_ids', 'attention_mask', 'bbox'])\n"
          ]
        }
      ]
    },
    {
      "cell_type": "markdown",
      "source": [
        "Run the inputs through the model"
      ],
      "metadata": {
        "id": "9o7cd9YG0PxF"
      }
    },
    {
      "cell_type": "code",
      "source": [
        "with torch.no_grad():\n",
        "  outputs = model(**encoding)"
      ],
      "metadata": {
        "colab": {
          "base_uri": "https://localhost:8080/"
        },
        "id": "KztEpMRhvlDu",
        "outputId": "b9adf20a-ac12-4801-ed21-e090de84d93b"
      },
      "execution_count": 4,
      "outputs": [
        {
          "output_type": "stream",
          "name": "stderr",
          "text": [
            "/usr/local/lib/python3.8/dist-packages/transformers/modeling_utils.py:810: FutureWarning: The `device` argument is deprecated and will be removed in v5 of Transformers.\n",
            "  warnings.warn(\n"
          ]
        }
      ]
    },
    {
      "cell_type": "code",
      "source": [
        "predictions = outputs.logits.argmax(-1).squeeze().tolist()\n",
        "pred = [(w, model.config.id2label[p]) for (w, p) in zip(words, predictions) if p != 'O']\n",
        "print(pred)\n",
        "#print(f'Predictions length: {len(predictions)} Words length: {encoding.input_ids.shape}')\n"
      ],
      "metadata": {
        "colab": {
          "base_uri": "https://localhost:8080/"
        },
        "id": "U4uJVwHX1_oO",
        "outputId": "fdf2e795-7dfe-4103-d4cd-8b4504f0771d"
      },
      "execution_count": 7,
      "outputs": [
        {
          "output_type": "stream",
          "name": "stdout",
          "text": [
            "[('INTERNATIONAL', 'O'), ('MARKETING', 'O'), ('RESEARCH', 'O'), ('‘CHANGE', 'O'), ('OF', 'I-HEADER'), ('AUTHORIZED', 'I-HEADER'), ('COST', 'I-HEADER'), ('ate:', 'O'), ('6/2190', 'O'), ('No.', 'O'), ('27', 'O'), ('Description:', 'O'), ('ona', 'O'), ('Kong:', 'O'), ('Cisarette', 'O'), ('Market', 'I-HEADER'), ('Monitor', 'I-HEADER'), ('Supplier:', 'I-HEADER'), ('HOR', 'O'), ('HK', 'O'), ('Total', 'I-QUESTION'), ('Cost', 'I-QUESTION'), ('1990', 'I-QUESTION'), ('Cost', 'I-QUESTION'), ('wi', 'I-ANSWER'), ('itn', 'I-ANSWER'), ('$43,335.00', 'I-QUESTION'), ('$__0,00—', 'I-QUESTION'), ('‘dnt.', 'I-QUESTION'), ('of', 'I-QUESTION'), ('Change:', 'I-QUESTION'), ('Increase', 'I-QUESTION'), ('X_', 'I-QUESTION'), ('Decrease', 'I-QUESTION'), ('__', 'I-QUESTION'), ('$4,376.47', 'I-QUESTION'), ('_.08', 'I-QUESTION'), ('(los', 'I-QUESTION'), ('chaage)', 'I-QUESTION'), ('Adjusted', 'I-QUESTION'), ('Total', 'I-QUESTION'), ('Cost', 'I-QUESTION'), ('of', 'I-QUESTION'), ('Project:', 'O'), ('S_4L', 'I-QUESTION'), ('TULA', 'O'), ('08', 'I-QUESTION'), ('Reasons:', 'O'), ('Original', 'I-QUESTION'), ('MRA', 'I-QUESTION'), ('did', 'I-QUESTION'), ('not', 'I-QUESTION'), ('‘nclude', 'I-QUESTION'), ('cost', 'I-ANSWER'), ('for', 'I-ANSWER'), ('the', 'I-ANSWER'), ('first', 'I-QUESTION'), ('month', 'I-QUESTION'), ('of', 'I-QUESTION'), ('the', 'I-QUESTION'), ('study', 'I-QUESTION'), ('(see', 'I-QUESTION'), ('L.', 'I-QUESTION'), ('PROJECTED:', 'I-QUESTION'), ('‘Sumary_of', 'O'), ('IMRD', 'O'), ('Budget', 'O'), ('seeernal', 'O'), ('Init.', 'O'), ('Date', 'I-QUESTION'), ('________', 'I-QUESTION'), ('Total', 'I-QUESTION'), ('Area', 'I-QUESTION'), ('Budget:', 'I-QUESTION'), ('_$2,960.000.00', 'I-QUESTION'), ('_', 'I-QUESTION'), ('Ext.', 'I-QUESTION'), ('Auth.', 'I-QUESTION'), ('Date', 'I-QUESTION'), ('Current', 'I-QUESTION'), ('Bal.', 'I-QUESTION'), ('Available:', 'I-QUESTION'), ('__1.488,126.23', 'I-QUESTION'), ('Wave(s)', 'I-QUESTION'), ('This', 'I-QUESTION'), ('Change:', 'I-QUESTION'), ('(From', 'I-QUESTION'), ('Current', 'I-QUESTION'), ('Budget)', 'I-QUESTION'), ('This', 'I-QUESTION'), ('Amount,', 'I-QUESTION'), ('Field', 'I-QUESTION'), ('Complete', 'O'), ('(From', 'O'), ('Next', 'I-QUESTION'), ('Years', 'O'), ('Budget)', 'B-QUESTION'), ('Wave(s)', 'I-QUESTION'), ('New', 'B-ANSWER'), ('Balance:', 'I-ANSWER'), ('488,126.15', 'I-QUESTION'), ('Final', 'I-QUESTION'), ('Report', 'I-QUESTION'), ('Oue', 'I-QUESTION'), ('(Supplier', 'I-QUESTION'), ('Rpt.)', 'I-QUESTION'), ('Wave(s)', 'I-QUESTION'), ('snd', 'I-QUESTION'), ('AD', 'I-QUESTION'), ('Dasa', 'I-QUESTION'), ('oe', 'I-QUESTION'), ('0', 'I-QUESTION'), ('davis', 'I-QUESTION'), ('Approved', 'I-QUESTION'), ('8y:', 'I-QUESTION'), ('7', 'I-QUESTION'), ('Lem', 'I-QUESTION'), ('tate', 'I-QUESTION'), ('4', 'I-QUESTION'), ('he', 'I-QUESTION'), ('Committed', 'I-QUESTION'), ('to', 'I-QUESTION'), ('Dat', 'I-QUESTION'), ('(Current', 'I-QUESTION'), ('Year)', 'I-QUESTION'), ('—1.471,873.85', 'I-QUESTION'), ('WW.', 'I-QUESTION'), ('Kremer', 'I-QUESTION'), ('original', 'I-QUESTION'), ('-', 'I-QUESTION'), ('Project', 'I-QUESTION'), ('File', 'I-QUESTION'), ('ce:', 'I-QUESTION'), ('WRA', 'O'), ('File', 'O'), ('Project', 'O'), ('No.', 'O'), ('1989-29', 'O'), ('N.W.', 'O'), ('Kremer', 'I-QUESTION'), ('‘Account', 'I-QUESTION'), ('Name_Internationa’', 'O'), ('464537440', 'I-QUESTION')]\n"
          ]
        }
      ]
    }
  ]
}